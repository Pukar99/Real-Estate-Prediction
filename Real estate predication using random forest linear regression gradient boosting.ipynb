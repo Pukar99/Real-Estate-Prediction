{
 "cells": [
  {
   "cell_type": "code",
   "execution_count": 2,
   "id": "8c0bd358",
   "metadata": {},
   "outputs": [],
   "source": [
    "#Import necessary libraries\n",
    "import pandas as pd\n",
    "import numpy as np\n",
    "import matplotlib.pyplot as plt\n",
    "import seaborn as sns"
   ]
  },
  {
   "cell_type": "code",
   "execution_count": 3,
   "id": "3ffe0ecf",
   "metadata": {},
   "outputs": [],
   "source": [
    "from sklearn.model_selection import train_test_split, GridSearchCV\n",
    "from sklearn.preprocessing import StandardScaler, PolynomialFeatures\n",
    "from sklearn.ensemble import RandomForestRegressor, GradientBoostingRegressor\n",
    "from sklearn.linear_model import LinearRegression\n",
    "from sklearn.metrics import mean_squared_error\n",
    "from sklearn.pipeline import Pipeline\n",
    "from sklearn.compose import ColumnTransformer"
   ]
  },
  {
   "cell_type": "code",
   "execution_count": 5,
   "id": "a657dad9",
   "metadata": {},
   "outputs": [],
   "source": [
    "# Load the dataset\n",
    "data = pd.read_csv('real_estate_data.csv')"
   ]
  },
  {
   "cell_type": "code",
   "execution_count": 6,
   "id": "8a424788",
   "metadata": {},
   "outputs": [
    {
     "data": {
      "text/plain": [
       "(10000, 8)"
      ]
     },
     "execution_count": 6,
     "metadata": {},
     "output_type": "execute_result"
    }
   ],
   "source": [
    "data.shape"
   ]
  },
  {
   "cell_type": "code",
   "execution_count": 7,
   "id": "62267c8c",
   "metadata": {},
   "outputs": [
    {
     "data": {
      "text/html": [
       "<div>\n",
       "<style scoped>\n",
       "    .dataframe tbody tr th:only-of-type {\n",
       "        vertical-align: middle;\n",
       "    }\n",
       "\n",
       "    .dataframe tbody tr th {\n",
       "        vertical-align: top;\n",
       "    }\n",
       "\n",
       "    .dataframe thead th {\n",
       "        text-align: right;\n",
       "    }\n",
       "</style>\n",
       "<table border=\"1\" class=\"dataframe\">\n",
       "  <thead>\n",
       "    <tr style=\"text-align: right;\">\n",
       "      <th></th>\n",
       "      <th>Property_ID</th>\n",
       "      <th>Location</th>\n",
       "      <th>Area_sq_ft</th>\n",
       "      <th>Bedrooms</th>\n",
       "      <th>Bathrooms</th>\n",
       "      <th>Year_Built</th>\n",
       "      <th>Amenities</th>\n",
       "      <th>Price</th>\n",
       "    </tr>\n",
       "  </thead>\n",
       "  <tbody>\n",
       "    <tr>\n",
       "      <th>0</th>\n",
       "      <td>P00001</td>\n",
       "      <td>East Kathleenstad</td>\n",
       "      <td>2185</td>\n",
       "      <td>5</td>\n",
       "      <td>2</td>\n",
       "      <td>1990</td>\n",
       "      <td>Garden</td>\n",
       "      <td>280488</td>\n",
       "    </tr>\n",
       "    <tr>\n",
       "      <th>1</th>\n",
       "      <td>P00002</td>\n",
       "      <td>Angelamouth</td>\n",
       "      <td>4499</td>\n",
       "      <td>4</td>\n",
       "      <td>3</td>\n",
       "      <td>2016</td>\n",
       "      <td>Garage</td>\n",
       "      <td>869927</td>\n",
       "    </tr>\n",
       "    <tr>\n",
       "      <th>2</th>\n",
       "      <td>P00003</td>\n",
       "      <td>East Douglaschester</td>\n",
       "      <td>893</td>\n",
       "      <td>1</td>\n",
       "      <td>3</td>\n",
       "      <td>2019</td>\n",
       "      <td>Garage</td>\n",
       "      <td>312760</td>\n",
       "    </tr>\n",
       "    <tr>\n",
       "      <th>3</th>\n",
       "      <td>P00004</td>\n",
       "      <td>East Barbara</td>\n",
       "      <td>2314</td>\n",
       "      <td>1</td>\n",
       "      <td>1</td>\n",
       "      <td>2011</td>\n",
       "      <td>Garden</td>\n",
       "      <td>407385</td>\n",
       "    </tr>\n",
       "    <tr>\n",
       "      <th>4</th>\n",
       "      <td>P00005</td>\n",
       "      <td>East Jessicachester</td>\n",
       "      <td>2216</td>\n",
       "      <td>4</td>\n",
       "      <td>2</td>\n",
       "      <td>2006</td>\n",
       "      <td>Pool</td>\n",
       "      <td>184878</td>\n",
       "    </tr>\n",
       "  </tbody>\n",
       "</table>\n",
       "</div>"
      ],
      "text/plain": [
       "  Property_ID             Location  Area_sq_ft  Bedrooms  Bathrooms  \\\n",
       "0      P00001    East Kathleenstad        2185         5          2   \n",
       "1      P00002          Angelamouth        4499         4          3   \n",
       "2      P00003  East Douglaschester         893         1          3   \n",
       "3      P00004         East Barbara        2314         1          1   \n",
       "4      P00005  East Jessicachester        2216         4          2   \n",
       "\n",
       "   Year_Built Amenities   Price  \n",
       "0        1990    Garden  280488  \n",
       "1        2016    Garage  869927  \n",
       "2        2019    Garage  312760  \n",
       "3        2011    Garden  407385  \n",
       "4        2006      Pool  184878  "
      ]
     },
     "execution_count": 7,
     "metadata": {},
     "output_type": "execute_result"
    }
   ],
   "source": [
    "data.head(5)"
   ]
  },
  {
   "cell_type": "code",
   "execution_count": 8,
   "id": "d573edf4",
   "metadata": {},
   "outputs": [
    {
     "data": {
      "text/plain": [
       "False"
      ]
     },
     "execution_count": 8,
     "metadata": {},
     "output_type": "execute_result"
    }
   ],
   "source": [
    "data.isnull().values.any()"
   ]
  },
  {
   "cell_type": "code",
   "execution_count": 9,
   "id": "4e07e192",
   "metadata": {},
   "outputs": [],
   "source": [
    "# Data preprocessing\n",
    "# Convert categorical data to numerical format\n",
    "data = pd.get_dummies(data, columns=['Location', 'Amenities'], drop_first=True)"
   ]
  },
  {
   "cell_type": "code",
   "execution_count": 10,
   "id": "a99e5ec2",
   "metadata": {},
   "outputs": [
    {
     "data": {
      "image/png": "[encoded data removed]",
      "text/plain": [
       "<Figure size 720x432 with 1 Axes>"
      ]
     },
     "metadata": {
      "needs_background": "light"
     },
     "output_type": "display_data"
    }
   ],
   "source": [
    "# Exploratory Data Analysis (EDA)\n",
    "# Visualizing distribution of prices\n",
    "plt.figure(figsize=(10, 6))\n",
    "sns.histplot(data['Price'], kde=True)\n",
    "plt.title('Distribution of Real Estate Prices')\n",
    "plt.xlabel('Price')\n",
    "plt.ylabel('Frequency')\n",
    "plt.show()"
   ]
  },
  {
   "cell_type": "code",
   "execution_count": 11,
   "id": "2afbeecc",
   "metadata": {},
   "outputs": [],
   "source": [
    "\n",
    "# Feature Engineering\n",
    "# Adding polynomial features\n",
    "poly = PolynomialFeatures(degree=2, include_bias=False)\n",
    "numeric_features = ['Area_sq_ft', 'Bedrooms', 'Bathrooms', 'Year_Built']\n",
    "X_poly = poly.fit_transform(data[numeric_features])"
   ]
  },
  {
   "cell_type": "code",
   "execution_count": 12,
   "id": "5f194653",
   "metadata": {},
   "outputs": [],
   "source": [
    "# Combine with original data\n",
    "poly_features = pd.DataFrame(X_poly, columns=poly.get_feature_names(numeric_features))\n",
    "data = pd.concat([data.reset_index(drop=True), poly_features], axis=1)"
   ]
  },
  {
   "cell_type": "code",
   "execution_count": 14,
   "id": "9f769626",
   "metadata": {},
   "outputs": [],
   "source": [
    "# Model Training\n",
    "X = data.drop(['Property_ID', 'Price'] + numeric_features, axis=1)\n",
    "y = data['Price']\n",
    "X_train, X_test, y_train, y_test = train_test_split(X, y, test_size=0.2, random_state=42)"
   ]
  },
  {
   "cell_type": "code",
   "execution_count": 15,
   "id": "bf1fb8e6",
   "metadata": {},
   "outputs": [],
   "source": [
    "# Define the models\n",
    "models = {\n",
    "    'LinearRegression': LinearRegression(),\n",
    "    'RandomForest': RandomForestRegressor(n_estimators=100, random_state=0),\n",
    "    'GradientBoosting': GradientBoostingRegressor(n_estimators=100, random_state=0)\n",
    "}"
   ]
  },
  {
   "cell_type": "code",
   "execution_count": 16,
   "id": "2a69a45c",
   "metadata": {},
   "outputs": [
    {
     "name": "stdout",
     "output_type": "stream",
     "text": [
      "LinearRegression Model - MSE: 2.869332282195367e+18\n",
      "RandomForest Model - MSE: 83102712740.21416\n",
      "GradientBoosting Model - MSE: 75229736225.37268\n"
     ]
    }
   ],
   "source": [
    "# Train and evaluate models\n",
    "for name, model in models.items():\n",
    "    model.fit(X_train, y_train)\n",
    "    predictions = model.predict(X_test)\n",
    "    mse = mean_squared_error(y_test, predictions)\n",
    "    print(f'{name} Model - MSE: {mse}')"
   ]
  },
  {
   "cell_type": "code",
   "execution_count": 17,
   "id": "bee7d173",
   "metadata": {},
   "outputs": [
    {
     "data": {
      "image/png": "[encoded data removed]",
      "text/plain": [
       "<Figure size 864x432 with 1 Axes>"
      ]
     },
     "metadata": {
      "needs_background": "light"
     },
     "output_type": "display_data"
    }
   ],
   "source": [
    "# Visualization of Model Performance\n",
    "plt.figure(figsize=(12, 6))\n",
    "for name, model in models.items():\n",
    "    sns.scatterplot(x=y_test, y=model.predict(X_test), label=name)\n",
    "plt.plot(y_test, y_test, color='black', lw=2, linestyle='--')\n",
    "plt.title('Model Predictions vs Actual Prices')\n",
    "plt.xlabel('Actual Price')\n",
    "plt.ylabel('Predicted Price')\n",
    "plt.legend()\n",
    "plt.show()"
   ]
  },
  {
   "cell_type": "code",
   "execution_count": null,
   "id": "0551d9b6",
   "metadata": {},
   "outputs": [],
   "source": [
    "\n",
    "import tkinter as tk\n",
    "from tkinter import ttk\n",
    "\n",
    "# Function to make predictions based on user input\n",
    "def make_prediction():\n",
    "    try:\n",
    "        # Retrieve values from GUI\n",
    "        area = float(area_entry.get())\n",
    "        bedrooms = int(bedrooms_entry.get())\n",
    "        bathrooms = int(bathrooms_entry.get())\n",
    "        year_built = int(year_built_entry.get())\n",
    "\n",
    "        # Additional attributes can be added as needed\n",
    "        # ...\n",
    "\n",
    "        # Create DataFrame from user input\n",
    "        input_data = pd.DataFrame([[area, bedrooms, bathrooms, year_built]],\n",
    "                                  columns=numeric_features)\n",
    "        input_poly = poly.transform(input_data)\n",
    "        input_poly_df = pd.DataFrame(input_poly, columns=poly.get_feature_names(numeric_features))\n",
    "\n",
    "        # Predict using the preferred model (e.g., RandomForest)\n",
    "        prediction = models['RandomForest'].predict(input_poly_df)[0]\n",
    "\n",
    "        # Display the prediction\n",
    "        result_label.config(text=f\"Predicted Price: ${prediction:.2f}\")\n",
    "    except ValueError:\n",
    "        result_label.config(text=\"Please check the input values.\")\n",
    "\n",
    "# GUI setup\n",
    "root = tk.Tk()\n",
    "root.title(\"Real Estate Price Prediction\")\n",
    "\n",
    "# Creating input fields\n",
    "tk.Label(root, text=\"Area (sq ft):\").grid(row=0, column=0)\n",
    "area_entry = tk.Entry(root)\n",
    "area_entry.grid(row=0, column=1)\n",
    "\n",
    "tk.Label(root, text=\"Bedrooms:\").grid(row=1, column=0)\n",
    "bedrooms_entry = tk.Entry(root)\n",
    "bedrooms_entry.grid(row=1, column=1)\n",
    "\n",
    "tk.Label(root, text=\"Bathrooms:\").grid(row=2, column=0)\n",
    "bathrooms_entry = tk.Entry(root)\n",
    "bathrooms_entry.grid(row=2, column=1)\n",
    "\n",
    "tk.Label(root, text=\"Year Built:\").grid(row=3, column=0)\n",
    "year_built_entry = tk.Entry(root)\n",
    "year_built_entry.grid(row=3, column=1)\n",
    "\n",
    "# Prediction button\n",
    "predict_button = tk.Button(root, text=\"Predict\", command=make_prediction)\n",
    "predict_button.grid(row=4, column=0, columnspan=2)\n",
    "\n",
    "# Label for showing the result\n",
    "result_label = tk.Label(root, text=\"Enter values and click predict.\")\n",
    "result_label.grid(row=5, column=0, columnspan=2)\n",
    "\n",
    "# Run the application\n",
    "root.mainloop()"
   ]
  },
  {
   "cell_type": "code",
   "execution_count": null,
   "id": "f2770263",
   "metadata": {},
   "outputs": [],
   "source": []
  },
  {
   "cell_type": "code",
   "execution_count": null,
   "id": "b460fbcb",
   "metadata": {},
   "outputs": [],
   "source": []
  }
 ],
 "metadata": {
  "kernelspec": {
   "display_name": "Python 3 (ipykernel)",
   "language": "python",
   "name": "python3"
  },
  "language_info": {
   "codemirror_mode": {
    "name": "ipython",
    "version": 3
   },
   "file_extension": ".py",
   "mimetype": "text/x-python",
   "name": "python",
   "nbconvert_exporter": "python",
   "pygments_lexer": "ipython3",
   "version": "3.9.7"
  }
 },
 "nbformat": 4,
 "nbformat_minor": 5
}
